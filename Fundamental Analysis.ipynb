{
 "cells": [
  {
   "cell_type": "code",
   "execution_count": 8,
   "metadata": {},
   "outputs": [
    {
     "name": "stdout",
     "output_type": "stream",
     "text": [
      "[[                                               0           1   2           3   \\\n",
      "10                                    Report Date  12/28/2019 NaN  12/29/2018   \n",
      "15                                    Net revenue     6731000 NaN     6475000   \n",
      "55                              Net income (loss)      341000 NaN      337000   \n",
      "58  Weighted average shares outstanding - diluted     1120000 NaN     1064000   \n",
      "\n",
      "    4           5   6           7   8           9   10          11  12  \\\n",
      "10 NaN  12/30/2017 NaN  12/31/2016 NaN  12/26/2015 NaN  12/27/2014 NaN   \n",
      "15 NaN     5329000 NaN     4272000 NaN     3991000 NaN     5506000 NaN   \n",
      "55 NaN       43000 NaN     -497000 NaN     -660000 NaN     -403000 NaN   \n",
      "58 NaN     1039000 NaN      835000 NaN      783000 NaN      768000 NaN   \n",
      "\n",
      "            13  14          15  16          17  18          19  \n",
      "10  12/28/2013 NaN  12/29/2012 NaN  12/31/2011 NaN  12/25/2010  \n",
      "15     5299000 NaN     5422000 NaN     6568000 NaN     6494000  \n",
      "55      -83000 NaN    -1183000 NaN      491000 NaN      471000  \n",
      "58      754000 NaN      741000 NaN      742000 NaN      733000  ], [                                      0        1   2        3   4       5   \\\n",
      "98  Total stockholders' equity (deficit)  2827000 NaN  1266000 NaN  611000   \n",
      "\n",
      "    6       7   8        9   10      11  12      13  14      15  16       17  \\\n",
      "98 NaN  416000 NaN  -412000 NaN  187000 NaN  544000 NaN  538000 NaN  1590000   \n",
      "\n",
      "    18       19  \n",
      "98 NaN  1013000  ]]\n"
     ]
    }
   ],
   "source": [
    "# -*- coding: utf-8 -*-\n",
    "\"\"\"\n",
    "Created on Thu May 28 21:21:23 2020\n",
    "\n",
    "@author: emanu\n",
    "\n",
    "Project name: loading data from Mergnet\n",
    "\"\"\"\n",
    "\n",
    "import pandas as pd\n",
    "from datetime import datetime as dt\n",
    "import xlsxwriter\n",
    "\n",
    "#setting viewing settings of pandas\n",
    "pd.set_option('display.max_columns', None)\n",
    "pd.set_option('display.max_rows', None)\n",
    "\n",
    "#open file \n",
    "data_IncomeStatement = pd.read_excel('asreported.xlsx', header=None)\n",
    "data_BalanceSheet = pd.read_excel('Balancesheet.xlsx', header=None)\n",
    "#data.index.name = 'Annual Income Statement'\n",
    "\n",
    "#clean file\n",
    "#data = data.dropna()\n",
    "#print(data.head(68))\n",
    "#print(data_IncomeStatement.columns)\n",
    "\n",
    "#define empty list for dataframe\n",
    "\n",
    "middle_list = []\n",
    "\n",
    "#extract and clean info from data DataFrame \n",
    "\n",
    "#print(data.index)\n",
    "#print(data.items)\n",
    "middle_list.append([data_IncomeStatement.iloc[[10, 15, 55, 58]]])\n",
    "\n",
    "middle_list.append([data_BalanceSheet.iloc[[98]]])\n",
    "#middle_list = pd.DataFrame(middle_list)\n",
    "#print(middle_list.keys())\n",
    "#middle_list['Report Date'] = middle_list['Report Date'].dt.weeday_name\n",
    "\n",
    "#now get info from Balance sheet 'https://www-mergentonline-com.ezproxy.torontopubliclibrary.ca/companyfinancials.php?pagetype=asreported&compnumber=105&period=Annuals&dataarea=BS&range=10&currency=AsRep&scale=AsRep&Submit=Refresh&isexcel=1'\n",
    "\n",
    "#data.pivot(index = 'index'', columns='Report Date')\n",
    "print(middle_list)\n",
    "middle_list = pd.DataFrame(middle_list)\n",
    "#save data\n",
    "data_IncomeStatement.to_excel('Data_test.xlsx')\n",
    "middle_list.to_excel('middle_list.xlsx')"
   ]
  },
  {
   "cell_type": "code",
   "execution_count": 4,
   "metadata": {},
   "outputs": [],
   "source": []
  },
  {
   "cell_type": "code",
   "execution_count": 15,
   "metadata": {},
   "outputs": [
    {
     "ename": "NameError",
     "evalue": "name 'self' is not defined",
     "output_type": "error",
     "traceback": [
      "\u001b[1;31m---------------------------------------------------------------------------\u001b[0m",
      "\u001b[1;31mNameError\u001b[0m                                 Traceback (most recent call last)",
      "\u001b[1;32m<ipython-input-15-0a52e71a0efa>\u001b[0m in \u001b[0;36m<module>\u001b[1;34m\u001b[0m\n\u001b[0;32m     14\u001b[0m \u001b[1;33m\u001b[0m\u001b[0m\n\u001b[0;32m     15\u001b[0m     \u001b[0mprint\u001b[0m \u001b[1;33m(\u001b[0m\u001b[1;34m\"Delete Column Successfully.\"\u001b[0m\u001b[1;33m)\u001b[0m\u001b[1;33m\u001b[0m\u001b[1;33m\u001b[0m\u001b[0m\n\u001b[1;32m---> 16\u001b[1;33m \u001b[0mdelete_column\u001b[0m\u001b[1;33m(\u001b[0m\u001b[0mself\u001b[0m\u001b[1;33m)\u001b[0m\u001b[1;33m\u001b[0m\u001b[1;33m\u001b[0m\u001b[0m\n\u001b[0m\u001b[0;32m     17\u001b[0m \u001b[0mfile\u001b[0m \u001b[1;33m=\u001b[0m \u001b[0mpd\u001b[0m\u001b[1;33m.\u001b[0m\u001b[0mread_excel\u001b[0m\u001b[1;33m(\u001b[0m\u001b[1;34m'Deleted_Column.xlsx'\u001b[0m\u001b[1;33m)\u001b[0m\u001b[1;33m\u001b[0m\u001b[1;33m\u001b[0m\u001b[0m\n\u001b[0;32m     18\u001b[0m \u001b[0mprint\u001b[0m\u001b[1;33m(\u001b[0m\u001b[0mfile\u001b[0m\u001b[1;33m)\u001b[0m\u001b[1;33m\u001b[0m\u001b[1;33m\u001b[0m\u001b[0m\n",
      "\u001b[1;31mNameError\u001b[0m: name 'self' is not defined"
     ]
    }
   ],
   "source": [
    "def delete_column(self):\n",
    " \n",
    "# Instantiating a Workbook object by excel file path\n",
    "    workbook = self.Workbook(self.dataDir + 'Data_test.xlsx')\n",
    " \n",
    "# Accessing the first worksheet in the Excel file\n",
    "    worksheet = workbook.getWorksheets().get(0)\n",
    "    deletable_col = [2,4,6,8,10,12,14,16,18,20]\n",
    "# Deleting a column from the worksheet at 2nd position\n",
    "    worksheet.getCells().deleteColumns(2,1,True)\n",
    " \n",
    "# Saving the modified Excel file in default (that is Excel 2003) format\n",
    "    workbook.save(self.dataDir + \"Deleted_Column.xlsx\")\n",
    " \n",
    "    print (\"Delete Column Successfully.\")\n",
    "delete_column(self)\n",
    "file = pd.read_excel('Deleted_Column.xlsx')\n",
    "print(file)"
   ]
  }
 ],
 "metadata": {
  "kernelspec": {
   "display_name": "Python 3",
   "language": "python",
   "name": "python3"
  },
  "language_info": {
   "codemirror_mode": {
    "name": "ipython",
    "version": 3
   },
   "file_extension": ".py",
   "mimetype": "text/x-python",
   "name": "python",
   "nbconvert_exporter": "python",
   "pygments_lexer": "ipython3",
   "version": "3.7.4"
  }
 },
 "nbformat": 4,
 "nbformat_minor": 4
}
